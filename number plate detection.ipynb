{
 "cells": [
  {
   "cell_type": "code",
   "execution_count": null,
   "metadata": {},
   "outputs": [
    {
     "name": "stdout",
     "output_type": "stream",
     "text": [
      "Number of Contours found : 10\n",
      "[[[113 160]]\n",
      "\n",
      " [[117 223]]\n",
      "\n",
      " [[384 222]]\n",
      "\n",
      " [[383 160]]]\n"
     ]
    }
   ],
   "source": [
    "#import lib\n",
    "\n",
    "import cv2\n",
    "import imutils as im\n",
    "\n",
    "input = 'carrs.jpg'\n",
    "image = cv2.imread(input)\n",
    "cv2.imshow(\"Input Image\", image)\n",
    "new_width = 500\n",
    "image = im.resize(image, width=new_width) #resizing the image\n",
    "\n",
    "gray = cv2.cvtColor(image, cv2.COLOR_BGR2GRAY) #converting bgr to gray scaling\n",
    "\n",
    "d, sigmaColor, sigmaSpace = 11,17,17\n",
    "filtered_image = cv2.bilateralFilter(gray, d, sigmaColor, sigmaSpace)\n",
    "\n",
    "lower, upper = 170, 200\n",
    "edged = cv2.Canny(filtered_image, lower, upper)\n",
    "\n",
    "# lets find the boundries of the iamge or say contours\n",
    "cnts,hir = cv2.findContours(edged.copy(), cv2.RETR_LIST, cv2.CHAIN_APPROX_SIMPLE)\n",
    "\n",
    "cnts=sorted(cnts, key = cv2.contourArea, reverse = True)[:10]\n",
    "NumberPlateCnt = None\n",
    "print(\"Number of Contours found : \" + str(len(cnts)))\n",
    "\n",
    "count = 0\n",
    "for c in cnts:\n",
    "        peri = cv2.arcLength(c, True)\n",
    "        epsilon = 0.01 * peri\n",
    "        approx = cv2.approxPolyDP(c, epsilon, True)\n",
    "        if len(approx) == 4:  \n",
    "            print(approx)\n",
    "            NumberPlateCnt = approx \n",
    "            break\n",
    "            \n",
    "#applying detection\n",
    "\n",
    "cv2.imshow(\"Gray scale Image\", gray)\n",
    "cv2.imshow(\"After Applying Bilateral Filter\", filtered_image)\n",
    "cv2.imshow(\"After Canny Edges\", edged)\n",
    "\n",
    "cv2.drawContours(image, [NumberPlateCnt], -1, (255,0,0), 2)\n",
    "cv2.imshow(\"Output\", image) #getting output image\n",
    "\n",
    "cv2.waitKey(0) "
   ]
  },
  {
   "cell_type": "code",
   "execution_count": 2,
   "metadata": {},
   "outputs": [
    {
     "name": "stdout",
     "output_type": "stream",
     "text": [
      "Defaulting to user installation because normal site-packages is not writeable\n",
      "Collecting imutils\n",
      "  Downloading imutils-0.5.4.tar.gz (17 kB)\n",
      "Building wheels for collected packages: imutils\n",
      "  Building wheel for imutils (setup.py) ... \u001b[?25ldone\n",
      "\u001b[?25h  Created wheel for imutils: filename=imutils-0.5.4-py3-none-any.whl size=25859 sha256=1a9056029360a38adb5eebba034990d3c86f1e5f7292cad56ef0ff1a265bc889\n",
      "  Stored in directory: /home/user/.cache/pip/wheels/59/1b/52/0dea905f8278d5514dc4d0be5e251967f8681670cadd3dca89\n",
      "Successfully built imutils\n",
      "Installing collected packages: imutils\n",
      "Successfully installed imutils-0.5.4\n",
      "\u001b[33mWARNING: You are using pip version 21.0.1; however, version 21.2.4 is available.\n",
      "You should consider upgrading via the '/usr/bin/python3 -m pip install --upgrade pip' command.\u001b[0m\n",
      "Note: you may need to restart the kernel to use updated packages.\n"
     ]
    }
   ],
   "source": [
    "pip install imutils"
   ]
  },
  {
   "cell_type": "code",
   "execution_count": null,
   "metadata": {},
   "outputs": [],
   "source": []
  }
 ],
 "metadata": {
  "kernelspec": {
   "display_name": "Python 3",
   "language": "python",
   "name": "python3"
  },
  "language_info": {
   "codemirror_mode": {
    "name": "ipython",
    "version": 3
   },
   "file_extension": ".py",
   "mimetype": "text/x-python",
   "name": "python",
   "nbconvert_exporter": "python",
   "pygments_lexer": "ipython3",
   "version": "3.8.10"
  }
 },
 "nbformat": 4,
 "nbformat_minor": 2
}
